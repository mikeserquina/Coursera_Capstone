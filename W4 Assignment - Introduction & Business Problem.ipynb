{
    "cells": [
        {
            "cell_type": "markdown",
            "metadata": {
                "collapsed": true
            },
            "source": "## Applied Data Science Capstone \n#### IBM Data Science Professional Certificate"
        },
        {
            "cell_type": "markdown",
            "metadata": {},
            "source": "#### Introduction\n[Makati City, Philippines](https://en.wikipedia.org/wiki/Makati) is one of the most densely populated cities in the world ([#14 as of 2016](https://en.wikipedia.org/wiki/List_of_cities_proper_by_population_density)); with a population density of \\~24k / km^2, it out-crowds New York City (\\~11k / km^2) and Toronto (\\~4.5k / km^2). Aside from all those people, it is also the address of the country's Central Business District, making it a very popular place to open establishments of all categories and at all price points.\n\nEstablishments in this area normally 'trend': as one establishment (say, a bar) in one area begins to gain popularity and foot traffic, adjacent complementary establishments -- in this example, coffee shops, restaurants, and other bars -- also enjoy an increase in patronage. The buyer behavior here is driven by the difficulty of parking in the city; once patrons have found parking for their vehicles, the consumer preference leans heavily toward carrying out all their plans (eating, having a coffee, some drinks) in establishments that are walking distance from each other."
        },
        {
            "cell_type": "markdown",
            "metadata": {},
            "source": "#### Objective of Analysis\nWith this mindset of a walking distance ripple effect, the objective of this analysis is to find prospective locations for a new bar, restaurant, or coffee shop establishment, based on currently popular establishments in those three categories. Intersections of an arbitrary 'walking distance' radius would be ranked higher, since they would have a higher expected benefit due to overlapping effect of nearby popular establishments.\n\n##### Conceptual objective / output of analysis:\n<a href=\"https://ibb.co/qJpQKN5\"><img src=\"https://i.ibb.co/9ZW56bt/Presentation1.jpg\" alt=\"Presentation1\" border=\"0\"></a>\n\nThe business application of the analysis would be the objective recommendation of locations that could be up-and-coming: not popular yet (hence rent and other expenses may not be as high as in the hotspots), but hold promise for becoming popular in the next 18-36 months due to proximity to other popular destinations."
        },
        {
            "cell_type": "code",
            "execution_count": null,
            "metadata": {},
            "outputs": [],
            "source": ""
        }
    ],
    "metadata": {
        "kernelspec": {
            "display_name": "Python 3.6",
            "language": "python",
            "name": "python3"
        },
        "language_info": {
            "codemirror_mode": {
                "name": "ipython",
                "version": 3
            },
            "file_extension": ".py",
            "mimetype": "text/x-python",
            "name": "python",
            "nbconvert_exporter": "python",
            "pygments_lexer": "ipython3",
            "version": "3.6.9"
        }
    },
    "nbformat": 4,
    "nbformat_minor": 1
}